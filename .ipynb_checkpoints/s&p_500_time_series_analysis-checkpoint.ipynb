{
 "cells": [
  {
   "cell_type": "markdown",
   "id": "0686e0b7-eb55-4e69-aa72-c4017e6e5569",
   "metadata": {},
   "source": [
    "### Kaggle dataset: https://www.kaggle.com/datasets/andrewmvd/sp-500-stocks"
   ]
  },
  {
   "cell_type": "markdown",
   "id": "29e16c45-4e22-4943-81a9-0b8c238aa416",
   "metadata": {},
   "source": [
    "### We begin with importing necessary libraries."
   ]
  },
  {
   "cell_type": "code",
   "execution_count": 2,
   "id": "7b9a9bf9-ec74-4e04-85e4-00d22c641fbb",
   "metadata": {},
   "outputs": [],
   "source": [
    "# imports\n",
    "import pandas as pd\n",
    "import numpy as np\n",
    "import matplotlib.pyplot as plt\n",
    "import seaborn as sns\n",
    "import plotly.express as px\n",
    "import plotly.graph_objects as go\n",
    "from statsmodels.tsa.seasonal import seasonal_decompose\n",
    "from sklearn.linear_model import LinearRegression\n",
    "import yaml\n",
    "from fredapi import Fred"
   ]
  },
  {
   "cell_type": "markdown",
   "id": "bd403e2c-e819-4230-b23f-250f7e616313",
   "metadata": {},
   "source": [
    "### We will use the Federal Reserve API for macroeconomic data to compare it with our S&P 500 data."
   ]
  },
  {
   "cell_type": "code",
   "execution_count": 12,
   "id": "0acf2ded-c7cf-4d8a-8af4-2dd084eac355",
   "metadata": {},
   "outputs": [
    {
     "name": "stdout",
     "output_type": "stream",
     "text": [
      "             S&P500  Interest_Rate      CPI  Unemployment_Rate        GDP\n",
      "2014-10-01  1946.16           0.09  237.430                5.7  17912.079\n",
      "2015-04-01  2059.69           0.12  236.222                5.4  18279.784\n",
      "2015-07-01  2077.42           0.13  238.034                5.2  18401.626\n",
      "2015-10-01  1923.82           0.12  237.733                5.0  18435.137\n",
      "2016-04-01  2072.78           0.37  238.992                5.1  18711.702\n",
      "2016-07-01  2102.95           0.39  240.101                4.8  18892.639\n",
      "2018-10-01  2924.59           2.19  252.772                3.8  20917.867\n",
      "2019-04-01  2867.19           2.42  255.233                3.7  21384.775\n",
      "2019-07-01  2964.33           2.40  255.802                3.7  21694.282\n",
      "2019-10-01  2940.25           1.83  257.155                3.6  21902.390\n",
      "2020-04-01  2470.50           0.05  256.126               14.8  19913.143\n",
      "2020-07-01  3115.86           0.09  258.408               10.2  21647.640\n",
      "2020-10-01  3380.80           0.09  260.249                6.8  22024.502\n",
      "2021-04-01  4019.87           0.07  266.752                6.1  23292.362\n",
      "2021-07-01  4319.94           0.10  271.994                5.4  23828.973\n",
      "2021-10-01  4357.04           0.08  276.434                4.5  24654.603\n",
      "2022-04-01  4545.86           0.33  288.764                3.7  25544.273\n",
      "2022-07-01  3825.33           1.68  294.977                3.5  25994.639\n",
      "2024-04-01  5243.77           5.33  313.207                3.9  28629.153\n"
     ]
    }
   ],
   "source": [
    "# Load the .yaml file\n",
    "with open('C:\\\\Users\\\\blake\\\\Documents\\\\github\\\\math\\\\finance\\\\quant\\\\fred\\\\fred_api_key.yml', 'r') as file:\n",
    "    config = yaml.safe_load(file)\n",
    "\n",
    "# Access the FRED API key from the .yaml file\n",
    "fred_api_key = config['FRED_API_KEY']\n",
    "\n",
    "# Initialize the FRED API with the API key\n",
    "fred = Fred(api_key=fred_api_key)\n",
    "\n",
    "# Pull data for S&P 500, interest rates, CPI, unemployment, and GDP\n",
    "sp500_data = fred.get_series('SP500')\n",
    "interest_rate_data = fred.get_series('FEDFUNDS')\n",
    "cpi_data = fred.get_series('CPIAUCSL')\n",
    "unemployment_data = fred.get_series('UNRATE')\n",
    "gdp_data = fred.get_series('GDP')\n",
    "\n",
    "# Combine data into a single DataFrame\n",
    "df_mac = pd.DataFrame({\n",
    "    'S&P500': sp500_data,\n",
    "    'Interest_Rate': interest_rate_data,\n",
    "    'CPI': cpi_data,\n",
    "    'Unemployment_Rate': unemployment_data,\n",
    "    'GDP': gdp_data\n",
    "}).dropna()\n",
    "\n",
    "# Display the first few rows of the combined data\n",
    "print(df_mac.head(19))"
   ]
  },
  {
   "cell_type": "code",
   "execution_count": 11,
   "id": "a0d86e35-c430-4d2a-9383-1a6637b12969",
   "metadata": {},
   "outputs": [
    {
     "data": {
      "text/plain": [
       "19"
      ]
     },
     "execution_count": 11,
     "metadata": {},
     "output_type": "execute_result"
    }
   ],
   "source": [
    "len(df_mac)"
   ]
  },
  {
   "cell_type": "code",
   "execution_count": 4,
   "id": "ef3e9c80-af42-4991-901e-401698bdf8b4",
   "metadata": {},
   "outputs": [
    {
     "data": {
      "text/plain": [
       "1946-01-01        NaN\n",
       "1946-04-01        NaN\n",
       "1946-07-01        NaN\n",
       "1946-10-01        NaN\n",
       "1947-01-01    243.164\n",
       "dtype: float64"
      ]
     },
     "execution_count": 4,
     "metadata": {},
     "output_type": "execute_result"
    }
   ],
   "source": [
    "gdp_data.head()"
   ]
  },
  {
   "cell_type": "code",
   "execution_count": 5,
   "id": "7ad358c1-373c-48a9-a773-47d2f7dd2428",
   "metadata": {},
   "outputs": [],
   "source": [
    "# Interest Rate Data\n",
    "interest_rate_data = fred.get_series('FEDFUNDS')\n",
    "\n",
    "# Inflation Data (CPI)\n",
    "cpi_data = fred.get_series('CPIAUCSL')\n",
    "\n",
    "# Unemployment Rate Data\n",
    "unemployment_rate_data = fred.get_series('UNRATE')\n",
    "\n",
    "# S&P 500 Index Data\n",
    "sp500_data = fred.get_series('SP500')"
   ]
  },
  {
   "cell_type": "code",
   "execution_count": 6,
   "id": "546045f1-8427-49dd-bd5f-2f05196597ee",
   "metadata": {},
   "outputs": [
    {
     "data": {
      "text/plain": [
       "2024-03-01    5.33\n",
       "2024-04-01    5.33\n",
       "2024-05-01    5.33\n",
       "2024-06-01    5.33\n",
       "2024-07-01    5.33\n",
       "dtype: float64"
      ]
     },
     "execution_count": 6,
     "metadata": {},
     "output_type": "execute_result"
    }
   ],
   "source": [
    "interest_rate_data.tail()"
   ]
  },
  {
   "cell_type": "code",
   "execution_count": 7,
   "id": "75f6012c-876d-4067-88a4-f971be3badda",
   "metadata": {},
   "outputs": [
    {
     "data": {
      "text/plain": [
       "1947-01-01    21.48\n",
       "1947-02-01    21.62\n",
       "1947-03-01    22.00\n",
       "1947-04-01    22.00\n",
       "1947-05-01    21.95\n",
       "dtype: float64"
      ]
     },
     "execution_count": 7,
     "metadata": {},
     "output_type": "execute_result"
    }
   ],
   "source": [
    "cpi_data.head()"
   ]
  },
  {
   "cell_type": "code",
   "execution_count": 8,
   "id": "3cb139fa-0738-45e2-9c9c-9c52bf4a4069",
   "metadata": {},
   "outputs": [
    {
     "data": {
      "text/plain": [
       "1948-01-01    3.4\n",
       "1948-02-01    3.8\n",
       "1948-03-01    4.0\n",
       "1948-04-01    3.9\n",
       "1948-05-01    3.5\n",
       "dtype: float64"
      ]
     },
     "execution_count": 8,
     "metadata": {},
     "output_type": "execute_result"
    }
   ],
   "source": [
    "unemployment_rate_data.head()"
   ]
  },
  {
   "cell_type": "code",
   "execution_count": null,
   "id": "c1a50c0f-9214-4218-b805-ade5b711db64",
   "metadata": {},
   "outputs": [],
   "source": [
    "df_comp = pd.read_csv(\"D:\\\\datasets\\\\github_financial_time_series_analysis\\\\sp500_companies.csv\")\n",
    "df_ind = pd.read_csv(\"D:\\\\datasets\\\\github_financial_time_series_analysis\\\\sp500_index.csv\")\n",
    "df_stock = pd.read_csv(\"D:\\\\datasets\\\\github_financial_time_series_analysis\\\\sp500_stocks.csv\")"
   ]
  },
  {
   "cell_type": "code",
   "execution_count": null,
   "id": "87f8b079-b4ef-4a4c-84cf-ed52efa66e72",
   "metadata": {},
   "outputs": [],
   "source": [
    "df_comp.head()"
   ]
  },
  {
   "cell_type": "code",
   "execution_count": null,
   "id": "fbf832b4-e441-4d76-ad25-16ea17e707d7",
   "metadata": {},
   "outputs": [],
   "source": [
    "df_ind.tail()"
   ]
  },
  {
   "cell_type": "code",
   "execution_count": null,
   "id": "e64337e4-ed36-4c0a-a44c-569d56690b1f",
   "metadata": {},
   "outputs": [],
   "source": [
    "df_stock.head()"
   ]
  },
  {
   "cell_type": "code",
   "execution_count": null,
   "id": "7dd7181a-5932-4ab3-a710-46be48200321",
   "metadata": {},
   "outputs": [],
   "source": [
    "df_stock.tail()"
   ]
  },
  {
   "cell_type": "code",
   "execution_count": null,
   "id": "e1a07a70-b072-4117-b345-78f8eca0b455",
   "metadata": {},
   "outputs": [],
   "source": [
    "# View the columns for each DataFrame\n",
    "print(\"Columns in df_comp:\", df_comp.columns)\n",
    "print()\n",
    "print(\"Columns in df_ind:\", df_ind.columns)\n",
    "print()\n",
    "print(\"Columns in df_stock:\", df_stock.columns)"
   ]
  },
  {
   "cell_type": "code",
   "execution_count": null,
   "id": "c56b9a65-5364-44a9-b3ab-bf9269a72dc9",
   "metadata": {},
   "outputs": [],
   "source": [
    "# Find common columns between the DataFrames\n",
    "common_columns_comp_ind = df_comp.columns.intersection(df_ind.columns)\n",
    "common_columns_comp_stock = df_comp.columns.intersection(df_stock.columns)\n",
    "common_columns_ind_stock = df_ind.columns.intersection(df_stock.columns)\n",
    "\n",
    "print(\"Common columns between df_comp and df_ind:\", common_columns_comp_ind)\n",
    "print(\"Common columns between df_comp and df_stock:\", common_columns_comp_stock)\n",
    "print(\"Common columns between df_ind and df_stock\", common_columns_ind_stock)"
   ]
  },
  {
   "cell_type": "code",
   "execution_count": null,
   "id": "23ed873f-644f-4306-b32c-be36afcc0e92",
   "metadata": {},
   "outputs": [],
   "source": [
    "print(f\"df_comp rows: {len(df_comp)}\")\n",
    "print(f\"df_ind rows: {len(df_ind):,.0f}\")\n",
    "print(f\"df_stock rows: {len(df_stock):,.0f}\")\n",
    "print()\n",
    "total_len = len(df_comp) + len(df_ind) + len(df_stock)\n",
    "print(f\"{total_len:,.0f} total rows in all 3 datasets\")"
   ]
  },
  {
   "cell_type": "code",
   "execution_count": null,
   "id": "60e63270-ca5d-4def-a725-8592d8340796",
   "metadata": {},
   "outputs": [],
   "source": [
    "# Step 1: Join df2 (sp500_index.csv) and df3 (sp500_stocks.csv) on the 'Date' column\n",
    "merged_df1 = pd.merge(df_ind, df_stock, on='Date', how='outer')\n",
    "merged_df1.head()\n",
    "len(merged_df1)"
   ]
  },
  {
   "cell_type": "code",
   "execution_count": null,
   "id": "fa0816a3-e279-4604-b805-ae533ec850b7",
   "metadata": {},
   "outputs": [],
   "source": [
    "merged_df1.head(25)"
   ]
  },
  {
   "cell_type": "code",
   "execution_count": null,
   "id": "802ee531-45b8-4bda-942a-ae4a41b517af",
   "metadata": {},
   "outputs": [],
   "source": [
    "# Step 2: Join the resulting dataframe with df1 (sp500_companies.csv) on the 'Symbol' column\n",
    "df = pd.merge(merged_df1, df_comp, on='Symbol', how='outer')\n",
    "df.head()"
   ]
  },
  {
   "cell_type": "code",
   "execution_count": null,
   "id": "6a6083e5-bd6a-41c4-912c-db71b667e7f3",
   "metadata": {},
   "outputs": [],
   "source": [
    "len(df)"
   ]
  },
  {
   "cell_type": "code",
   "execution_count": null,
   "id": "04f644be-dfe0-480d-8574-05e9cd2ff6f6",
   "metadata": {},
   "outputs": [],
   "source": [
    "# set date as index column for time-series analysis\n",
    "print(type(df['Date']))\n",
    "df['Date'] = pd.to_datetime(df['Date'])  # Convert the Date column to datetime"
   ]
  },
  {
   "cell_type": "code",
   "execution_count": null,
   "id": "1cef92ee-f251-47af-89c7-24de99efc3d1",
   "metadata": {},
   "outputs": [],
   "source": [
    "# Set Date as the index\n",
    "df.set_index('Date', inplace=True)"
   ]
  },
  {
   "cell_type": "code",
   "execution_count": null,
   "id": "f6134094-3d66-468f-a514-e09998127d54",
   "metadata": {},
   "outputs": [],
   "source": [
    "# Sort by the index to ensure time series operations are correct\n",
    "df.sort_index(inplace=True)"
   ]
  },
  {
   "cell_type": "code",
   "execution_count": null,
   "id": "85fc92f3-48c9-4c3d-88b1-f05b8bfd6c4b",
   "metadata": {},
   "outputs": [],
   "source": [
    "%store df"
   ]
  },
  {
   "cell_type": "markdown",
   "id": "3d39512f-2407-4921-89c7-74e1b9da1df0",
   "metadata": {},
   "source": [
    "### All three datasets have been merged into one.  Let's begin the analysis."
   ]
  },
  {
   "cell_type": "markdown",
   "id": "f1e87451-26be-40b3-992e-009eaa64991b",
   "metadata": {},
   "source": [
    "### Feature engineering/adding columns for datasets"
   ]
  },
  {
   "cell_type": "code",
   "execution_count": null,
   "id": "c750194e-1154-4b3b-9395-fe4d0717eaef",
   "metadata": {},
   "outputs": [],
   "source": [
    "# Calculate daily returns using the 'Adj Close' column\n",
    "df_stock['Return'] = df_stock['Adj Close'].pct_change(fill_method = None) * 100  # Calculate daily returns as percentage\n",
    "df['Return'] = df['Adj Close'].pct_change(fill_method = None) * 100 "
   ]
  },
  {
   "cell_type": "code",
   "execution_count": null,
   "id": "b402cc0c-7ca9-45db-ade3-9e8fef801620",
   "metadata": {
    "scrolled": true
   },
   "outputs": [],
   "source": [
    "df_stock.head()"
   ]
  },
  {
   "cell_type": "code",
   "execution_count": null,
   "id": "baba58e0-f436-42f1-896f-be7972025298",
   "metadata": {},
   "outputs": [],
   "source": [
    "# Calculate absolute returns as the change in 'Adj Close' from one day to the next\n",
    "df_stock['Absolute_Return'] = df_stock['Adj Close'].diff()\n",
    "df['Absolute_Return'] = df['Adj Close'].diff()"
   ]
  },
  {
   "cell_type": "code",
   "execution_count": null,
   "id": "54a31e06-6fef-44a6-b376-8ba96e1cf5b8",
   "metadata": {},
   "outputs": [],
   "source": [
    "df_stock.head()"
   ]
  },
  {
   "cell_type": "code",
   "execution_count": null,
   "id": "dfcdfb6d-be21-4f5b-aa62-779386455cbd",
   "metadata": {},
   "outputs": [],
   "source": [
    "# Simple Moving Average (SMA) - 20-day and 200-day\n",
    "df_stock['SMA_20'] = df_stock['Adj Close'].rolling(window=20).mean()\n",
    "df_stock['SMA_200'] = df_stock['Adj Close'].rolling(window=200).mean()\n",
    "\n",
    "df['SMA_20'] = df['Adj Close'].rolling(window=20).mean()\n",
    "df['SMA_200'] = df['Adj Close'].rolling(window=200).mean()"
   ]
  },
  {
   "cell_type": "code",
   "execution_count": null,
   "id": "7abac529-70e4-426f-98db-f058ef5d9f9c",
   "metadata": {},
   "outputs": [],
   "source": [
    "df_stock.tail()"
   ]
  },
  {
   "cell_type": "code",
   "execution_count": null,
   "id": "131a6bf8-f1f5-42b4-b42c-35e6a5ac5b1f",
   "metadata": {},
   "outputs": [],
   "source": [
    "# Exponential Moving Average (EMA) - 20-day and 200-day\n",
    "df_stock['EMA_20'] = df_stock['Adj Close'].ewm(span=20, adjust=False).mean()\n",
    "df_stock['EMA_200'] = df_stock['Adj Close'].ewm(span=200, adjust=False).mean()\n",
    "\n",
    "df['EMA_20'] = df['Adj Close'].ewm(span=20, adjust=False).mean()\n",
    "df['EMA_200'] = df['Adj Close'].ewm(span=200, adjust=False).mean()"
   ]
  },
  {
   "cell_type": "code",
   "execution_count": null,
   "id": "752cf62b-158b-42c2-9aed-386a301c6fd5",
   "metadata": {},
   "outputs": [],
   "source": [
    "# 3. Relative Strength Index (RSI) - 14-day period\n",
    "window_length = 14"
   ]
  },
  {
   "cell_type": "code",
   "execution_count": null,
   "id": "80dd8afc-ff14-41da-a52c-c0f9c7430602",
   "metadata": {},
   "outputs": [],
   "source": [
    "# Calculate the daily price changes\n",
    "delta = df['Adj Close'].diff()"
   ]
  },
  {
   "cell_type": "code",
   "execution_count": null,
   "id": "008aaffb-da27-4dc6-9e6d-a5a4fd4e9715",
   "metadata": {},
   "outputs": [],
   "source": [
    "# Calculate the gains and losses\n",
    "gain = (delta.where(delta > 0, 0)).rolling(window=window_length).mean()\n",
    "loss = (-delta.where(delta < 0, 0)).rolling(window=window_length).mean()"
   ]
  },
  {
   "cell_type": "code",
   "execution_count": null,
   "id": "d0171964-6396-4c5c-b3bc-2167929fc180",
   "metadata": {},
   "outputs": [],
   "source": [
    "# Calculate the RS and RSI\n",
    "rs = gain / loss\n",
    "df['RSI_14'] = 100 - (100 / (1 + rs))"
   ]
  },
  {
   "cell_type": "code",
   "execution_count": null,
   "id": "3c903fd7-fb5b-43b1-945e-3e369357f601",
   "metadata": {},
   "outputs": [],
   "source": [
    "# 4. Bollinger Bands (20-day SMA and 2 standard deviations)\n",
    "df['Bollinger_Mid'] = df['Adj Close'].rolling(window=20).mean()\n",
    "df['Bollinger_Upper'] = df['Bollinger_Mid'] + 2 * df['Adj Close'].rolling(window=20).std()\n",
    "df['Bollinger_Lower'] = df['Bollinger_Mid'] - 2 * df['Adj Close'].rolling(window=20).std()"
   ]
  },
  {
   "cell_type": "code",
   "execution_count": null,
   "id": "a38c4cc9-a085-4407-8970-939f6888916f",
   "metadata": {},
   "outputs": [],
   "source": [
    "# 5. MACD (12-day EMA and 26-day EMA)\n",
    "ema_12 = df['Adj Close'].ewm(span=12, adjust=False).mean()\n",
    "ema_26 = df['Adj Close'].ewm(span=26, adjust=False).mean()\n",
    "df['MACD'] = ema_12 - ema_26\n",
    "df['MACD_Signal'] = df['MACD'].ewm(span=9, adjust=False).mean()\n",
    "df['MACD_Histogram'] = df['MACD'] - df['MACD_Signal']"
   ]
  },
  {
   "cell_type": "code",
   "execution_count": null,
   "id": "23d83ce8-c5de-4898-bbc0-ad897591a98f",
   "metadata": {},
   "outputs": [],
   "source": [
    "(df['Return'] < -1).value_counts()"
   ]
  },
  {
   "cell_type": "markdown",
   "id": "29992445-0dc5-4c39-a3d0-df5c49b9d7b1",
   "metadata": {},
   "source": [
    "### Fix cumulative returns"
   ]
  },
  {
   "cell_type": "code",
   "execution_count": null,
   "id": "186f5ccd-adf1-40f4-a4a4-e6a9595fb800",
   "metadata": {},
   "outputs": [],
   "source": [
    "# 7. Daily Log Returns\n",
    "df['Log_Return'] = np.log(df['Adj Close'] / df['Adj Close'].shift(1))"
   ]
  },
  {
   "cell_type": "code",
   "execution_count": null,
   "id": "1ab2f30b-44de-4d73-bec0-23d0352112b9",
   "metadata": {},
   "outputs": [],
   "source": [
    "# 8. Volatility (30-day rolling standard deviation of returns)\n",
    "df['Volatility'] = df['Return'].rolling(window=30).std()"
   ]
  },
  {
   "cell_type": "code",
   "execution_count": null,
   "id": "617b3b9f-f571-4c08-9ef3-00fc05aedc2b",
   "metadata": {},
   "outputs": [],
   "source": [
    "# 9. Sharpe Ratio (using a risk-free rate assumption, e.g., 0)\n",
    "# If you want to use a risk-free rate, adjust accordingly\n",
    "risk_free_rate = 0\n",
    "df['Excess_Return'] = df['Return'] - risk_free_rate\n",
    "df['Sharpe_Ratio'] = df['Excess_Return'].rolling(window=30).mean() / df['Volatility']"
   ]
  },
  {
   "cell_type": "code",
   "execution_count": null,
   "id": "fb733da3-23c3-4645-9274-35a301fae612",
   "metadata": {},
   "outputs": [],
   "source": [
    "df.tail(2)"
   ]
  },
  {
   "cell_type": "code",
   "execution_count": null,
   "id": "82db254c-1f44-4bbd-9185-d7903712dd79",
   "metadata": {},
   "outputs": [],
   "source": [
    "df.info()"
   ]
  },
  {
   "cell_type": "code",
   "execution_count": null,
   "id": "b61922a1-6b40-4140-8a97-1382ec0dc36b",
   "metadata": {},
   "outputs": [],
   "source": [
    "df.describe()"
   ]
  },
  {
   "cell_type": "code",
   "execution_count": null,
   "id": "0ee4b3be-1027-48b9-9935-ec125f27ef51",
   "metadata": {},
   "outputs": [],
   "source": [
    "df.columns"
   ]
  },
  {
   "cell_type": "markdown",
   "id": "98d19503-3417-483e-93a9-e2e16147366e",
   "metadata": {},
   "source": [
    "### Trend Analysis"
   ]
  },
  {
   "cell_type": "markdown",
   "id": "87435be1-44ca-4f88-bb17-2233606368a1",
   "metadata": {},
   "source": [
    "#### How do stock prices evolve over time, and what are the long-term trends?"
   ]
  },
  {
   "cell_type": "code",
   "execution_count": null,
   "id": "6419b3c8-d71b-4688-8991-803d26eed2fa",
   "metadata": {},
   "outputs": [],
   "source": [
    "# Plot the raw time series data using Plotly (one stock, one date range)\n",
    "stock = 'AAPL'\n",
    "start_date = '2024-01-01'\n",
    "end_date = '2024-08-20'\n",
    "\n",
    "df_filtered = df[(df['Symbol'] == stock) & (df.index >= start_date) & (df.index <= end_date)].copy()\n",
    "\n",
    "# Use .loc to set the rolling average to avoid the warning\n",
    "df_filtered.loc[:, 'Rolling_Avg'] = df_filtered['Close'].rolling(window=30).mean()  # 30-day rolling average\n",
    "\n",
    "fig = px.line(df_filtered, x=df_filtered.index, y='Close', title=f'{stock} Stock Price, {start_date} to {end_date}', labels={'Close':'Stock Price'})\n",
    "\n",
    "# Add a rolling average line\n",
    "fig.add_scatter(x=df_filtered.index, y=df_filtered['Rolling_Avg'], mode='lines', name='30-Day Rolling Average')\n",
    "\n",
    "fig.show()"
   ]
  },
  {
   "cell_type": "markdown",
   "id": "f7e28e0a-1313-4d69-902d-09b02000dbad",
   "metadata": {},
   "source": [
    "### Reference Stock List"
   ]
  },
  {
   "cell_type": "code",
   "execution_count": null,
   "id": "d2aae060-6570-45f8-be7e-33a15c16b5e2",
   "metadata": {},
   "outputs": [],
   "source": [
    "stock_symbols = df['Symbol'].unique()  \n",
    "\n",
    "# Convert to list (optional)\n",
    "stock_symbols_list = sorted(stock_symbols.tolist())\n",
    "\n",
    "# Display the full list of stock symbols\n",
    "print(stock_symbols_list)"
   ]
  },
  {
   "cell_type": "code",
   "execution_count": null,
   "id": "4ad4e4e8-248a-42e3-b46c-31ec21f7df0f",
   "metadata": {},
   "outputs": [],
   "source": [
    "# Calculate the 20-day rolling mean (middle Bollinger band)\n",
    "df_filtered['Rolling_Mean'] = df_filtered['Close'].rolling(window=20).mean()\n",
    "\n",
    "# Calculate the rolling standard deviation\n",
    "df_filtered['Rolling_Std'] = df_filtered['Close'].rolling(window=20).std()\n",
    "\n",
    "# Calculate the upper and lower Bollinger Bands (2 standard deviations away from the moving average)\n",
    "df_filtered['Upper_Band'] = df_filtered['Rolling_Mean'] + (df_filtered['Rolling_Std'] * 2)\n",
    "df_filtered['Lower_Band'] = df_filtered['Rolling_Mean'] - (df_filtered['Rolling_Std'] * 2)\n",
    "\n",
    "# Plot the filtered data with the Bollinger Bands using Plotly\n",
    "fig = go.Figure()\n",
    "\n",
    "# Add the original stock price line\n",
    "fig.add_trace(go.Scatter(x=df_filtered.index, y=df_filtered['Close'], mode='lines', name='Stock Price', line=dict(color='blue')))\n",
    "\n",
    "# Add the Rolling Mean (middle Bollinger band)\n",
    "fig.add_trace(go.Scatter(x=df_filtered.index, y=df_filtered['Rolling_Mean'], mode='lines', name='20-Day Moving Average', line=dict(color='orange')))\n",
    "\n",
    "# Add the Upper Bollinger Band\n",
    "fig.add_trace(go.Scatter(x=df_filtered.index, y=df_filtered['Upper_Band'], mode='lines', name='Upper Bollinger Band', line=dict(color='green', dash='dash')))\n",
    "\n",
    "# Add the Lower Bollinger Band\n",
    "fig.add_trace(go.Scatter(x=df_filtered.index, y=df_filtered['Lower_Band'], mode='lines', name='Lower Bollinger Band', line=dict(color='red', dash='dash')))\n",
    "\n",
    "# Fill the area between the upper and lower bands for better visualization\n",
    "fig.add_trace(go.Scatter(\n",
    "    x=df_filtered.index, y=df_filtered['Upper_Band'],\n",
    "    mode='lines', line=dict(width=0), showlegend=False\n",
    "))\n",
    "\n",
    "fig.add_trace(go.Scatter(\n",
    "    x=df_filtered.index, y=df_filtered['Lower_Band'],\n",
    "    fill='tonexty', fillcolor='rgba(173,216,230,0.3)', \n",
    "    mode='lines', line=dict(width=0), showlegend=False\n",
    "))\n",
    "\n",
    "# Customize the layout of the plot\n",
    "fig.update_layout(\n",
    "    title=f'Stock Price of {stock} with Bollinger Bands from {start_date} to {end_date}',\n",
    "    xaxis_title='Date',\n",
    "    yaxis_title='Stock Price'\n",
    ")\n",
    "\n",
    "fig.show()"
   ]
  },
  {
   "cell_type": "code",
   "execution_count": null,
   "id": "eafe264f-e401-4fd0-9e62-aa07a6b525c2",
   "metadata": {},
   "outputs": [],
   "source": [
    "df.head(2)"
   ]
  },
  {
   "cell_type": "markdown",
   "id": "b19dc302-54ea-42f9-b382-98ee1ad60cb1",
   "metadata": {},
   "source": [
    "### How does stock market volatility behave, and how can we model it?"
   ]
  },
  {
   "cell_type": "code",
   "execution_count": null,
   "id": "74baf64a-e8d9-458f-b3ab-b28f2e837999",
   "metadata": {},
   "outputs": [],
   "source": [
    "# Assuming df is already filtered to the specific stock and date range, and set with 'Date' as the index\n",
    "df_filtered['Returns'] = df_filtered['Close'].pct_change() * 100  # Calculate daily returns as percentage\n",
    "\n",
    "# Plot the daily returns to visualize volatility clustering\n",
    "plt.figure(figsize=(10, 6))\n",
    "plt.plot(df_filtered.index, df_filtered['Returns'], color='blue', label='Daily Returns')\n",
    "plt.title('Daily Stock Returns and Volatility Clustering')\n",
    "plt.xlabel('Date')\n",
    "plt.ylabel('Daily Returns (%)')\n",
    "plt.axhline(0, color='black', lw=1)\n",
    "plt.legend()\n",
    "plt.show()"
   ]
  },
  {
   "cell_type": "code",
   "execution_count": null,
   "id": "31861eec-3656-4510-8b7e-f45089eb7c45",
   "metadata": {},
   "outputs": [],
   "source": [
    "# Create a Plotly figure for daily returns\n",
    "fig = go.Figure()\n",
    "\n",
    "# Add daily returns as a line plot\n",
    "fig.add_trace(go.Scatter(x=df_filtered.index, y=df_filtered['Returns'], mode='lines', name='Daily Returns', line=dict(color='blue')))\n",
    "\n",
    "# Add a horizontal line at 0 for reference\n",
    "fig.add_shape(type=\"line\", x0=df_filtered.index.min(), y0=0, x1=df_filtered.index.max(), y1=0, line=dict(color=\"black\", width=2))\n",
    "\n",
    "# Update the layout for better aesthetics\n",
    "fig.update_layout(\n",
    "    title=\"Daily Stock Returns and Volatility Clustering\",\n",
    "    xaxis_title=\"Date\",\n",
    "    yaxis_title=\"Daily Returns (%)\",\n",
    "    showlegend=True,\n",
    "    template=\"plotly_white\"\n",
    ")\n",
    "\n",
    "fig.show()"
   ]
  },
  {
   "cell_type": "code",
   "execution_count": null,
   "id": "ec27883a-1e61-4d54-a7b5-48adb8333c92",
   "metadata": {},
   "outputs": [],
   "source": [
    "# Plot using Seaborn\n",
    "plt.figure(figsize=(12, 6))\n",
    "sns.lineplot(data=df_filtered, x=df_filtered.index, y='Returns', label='Daily Returns', color='blue')\n",
    "\n",
    "# Add a horizontal line at 0 for reference\n",
    "plt.axhline(0, color='black', linewidth=1)\n",
    "\n",
    "# Add titles and labels\n",
    "plt.title('Daily Stock Returns and Volatility Clustering', fontsize=16)\n",
    "plt.xlabel('Date', fontsize=12)\n",
    "plt.ylabel('Daily Returns (%)', fontsize=12)\n",
    "plt.legend()\n",
    "plt.show()"
   ]
  },
  {
   "cell_type": "code",
   "execution_count": null,
   "id": "d5e83668-5ece-42a4-b467-4e56668879d8",
   "metadata": {},
   "outputs": [],
   "source": [
    "# Rescale the returns (e.g., divide by 1000) for GARCH just in case\n",
    "df['Rescaled_Returns'] = df['Return'] / 1000"
   ]
  },
  {
   "cell_type": "code",
   "execution_count": null,
   "id": "b49b82d7-a6c3-41c6-9ec5-00734da64f04",
   "metadata": {},
   "outputs": [],
   "source": [
    "from arch import arch_model\n",
    "\n",
    "# Drop NaN values in the returns (since pct_change creates NaNs for the first row)\n",
    "df.dropna(subset=['Return'], inplace=True)\n",
    "\n",
    "# Fit a GARCH(1,1) model to the daily returns\n",
    "model = arch_model(df_filtered['Return'], vol='Garch', p=1, q=1)\n",
    "garch_fit = model.fit()\n",
    "\n",
    "# Print the summary of the GARCH model fit\n",
    "print(garch_fit.summary())\n",
    "\n",
    "# Plot the conditional volatility\n",
    "plt.figure(figsize=(10, 6))\n",
    "plt.plot(df_filtered.index, garch_fit.conditional_volatility, color='red', label='Conditional Volatility (GARCH)')\n",
    "plt.title('GARCH Model - Estimated Volatility Over Time')\n",
    "plt.xlabel('Date')\n",
    "plt.ylabel('Estimated Volatility')\n",
    "plt.legend()\n",
    "plt.show()"
   ]
  },
  {
   "cell_type": "markdown",
   "id": "7c4e4551-45ca-4777-9ed1-681620ff1904",
   "metadata": {},
   "source": [
    "### Are there seasonal patterns in stock returns (e.g., monthly effects, day-of-the-week effects)?"
   ]
  },
  {
   "cell_type": "code",
   "execution_count": null,
   "id": "6b4b6418-e1bf-4030-b319-03bb9d3237d5",
   "metadata": {},
   "outputs": [],
   "source": [
    "import pandas as pd\n",
    "import numpy as np\n",
    "import statsmodels.api as sm\n",
    "from statsmodels.tsa.statespace.sarimax import SARIMAX\n",
    "\n",
    "start_date = '2024-01-01'\n",
    "end_date = '2024-12-31'\n",
    "\n",
    "df_filtered = df_filtered.loc[start_date:end_date]\n",
    "\n",
    "# set frequency automatically (can do a manual \"frequency = 'D'\"\" if needed)\n",
    "df_filtered = df_filtered.asfreq(pd.infer_freq(df_filtered.index))\n",
    "\n",
    "# SARIMA modeling: assuming we want to check for weekly seasonality (7 days)\n",
    "model = SARIMAX(df_filtered['Return'], order=(1,1,1), seasonal_order=(1,1,1,7))\n",
    "sarima_result = model.fit()\n",
    "\n",
    "# Summary of SARIMA model\n",
    "print(sarima_result.summary())\n",
    "\n",
    "# Plotting diagnostics\n",
    "sarima_result.plot_diagnostics(figsize=(15, 12))"
   ]
  },
  {
   "cell_type": "markdown",
   "id": "4b1b82cf-8300-4b53-abac-fb40e7f73543",
   "metadata": {},
   "source": [
    "### How strongly correlated are stock prices with macroeconomic indicators like interest rates or inflation?"
   ]
  },
  {
   "cell_type": "code",
   "execution_count": null,
   "id": "0481b060-31dc-43c3-b123-1fa00011c9fc",
   "metadata": {},
   "outputs": [],
   "source": []
  }
 ],
 "metadata": {
  "kernelspec": {
   "display_name": "fin_time_series_venv",
   "language": "python",
   "name": "venv"
  },
  "language_info": {
   "codemirror_mode": {
    "name": "ipython",
    "version": 3
   },
   "file_extension": ".py",
   "mimetype": "text/x-python",
   "name": "python",
   "nbconvert_exporter": "python",
   "pygments_lexer": "ipython3",
   "version": "3.12.0"
  }
 },
 "nbformat": 4,
 "nbformat_minor": 5
}
